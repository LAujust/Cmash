{
 "cells": [
  {
   "cell_type": "markdown",
   "metadata": {},
   "source": [
    "# GW AGN Example"
   ]
  },
  {
   "cell_type": "code",
   "execution_count": 6,
   "metadata": {},
   "outputs": [],
   "source": [
    "import numpy as np\n",
    "from astropy.table import Table, vstack, hstack\n",
    "from astropy.coordinates import SkyCoord\n",
    "import astropy.units as u\n",
    "import sys, os\n",
    "sys.path.append('/mnt/rdliang/AGN/BBH_AGN/Cmash')\n",
    "import Cmash\n",
    "from astropy.time import Time"
   ]
  },
  {
   "cell_type": "markdown",
   "metadata": {},
   "source": [
    "## O4a: Cross-match EP Known Source with AGN flare detected in Optical"
   ]
  },
  {
   "cell_type": "code",
   "execution_count": 5,
   "metadata": {},
   "outputs": [],
   "source": [
    "agn_flare_table = Table.read('/mnt/rdliang/AGN/BBH_AGN/data/AGNflares.csv')\n",
    "agn_flare_cat = SkyCoord(agn_flare_table['RA'],agn_flare_table['DEC'],unit=u.deg)\n",
    "\n",
    "EP_source_table = Table.read('/mnt/rdliang/AGN/BBH_AGN/data/stp_source_list.csv')\n",
    "EP_source_cat = SkyCoord(EP_source_table['RA'],EP_source_table['Dec'],unit=u.deg)\n",
    "\n",
    "source_matched_idx, cat_matched_idx = Cmash.match_cat(agn_flare_cat,EP_source_cat,radius=3*u.arcmin)\n",
    "\n",
    "agn_flare_matched, EP_source_matched = agn_flare_table[source_matched_idx], EP_source_table[cat_matched_idx]\n",
    "matched_table = hstack((agn_flare_matched,EP_source_matched))\n",
    "matched_table.write('/mnt/rdliang/AGN/BBH_AGN/data/AGNflare_EP_matched.csv',format='csv')"
   ]
  },
  {
   "cell_type": "code",
   "execution_count": 11,
   "metadata": {},
   "outputs": [
    {
     "data": {
      "text/plain": [
       "60462.5"
      ]
     },
     "execution_count": 11,
     "metadata": {},
     "output_type": "execute_result"
    }
   ],
   "source": [
    "Time('2024-06-01 12:00:00',scale='utc').mjd"
   ]
  },
  {
   "cell_type": "code",
   "execution_count": 8,
   "metadata": {},
   "outputs": [
    {
     "data": {
      "text/plain": [
       "'2023-10-07 14:24:00.000'"
      ]
     },
     "execution_count": 8,
     "metadata": {},
     "output_type": "execute_result"
    }
   ],
   "source": [
    "Time(60224.6,format='mjd').iso"
   ]
  }
 ],
 "metadata": {
  "kernelspec": {
   "display_name": "ligo_env",
   "language": "python",
   "name": "python3"
  },
  "language_info": {
   "codemirror_mode": {
    "name": "ipython",
    "version": 3
   },
   "file_extension": ".py",
   "mimetype": "text/x-python",
   "name": "python",
   "nbconvert_exporter": "python",
   "pygments_lexer": "ipython3",
   "version": "3.11.11"
  }
 },
 "nbformat": 4,
 "nbformat_minor": 2
}
